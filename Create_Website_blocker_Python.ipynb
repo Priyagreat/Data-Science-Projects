{
  "nbformat": 4,
  "nbformat_minor": 0,
  "metadata": {
    "colab": {
      "provenance": [],
      "authorship_tag": "ABX9TyP9TVA0BB8/QMC+E/9vIAI0",
      "include_colab_link": true
    },
    "kernelspec": {
      "name": "python3",
      "display_name": "Python 3"
    },
    "language_info": {
      "name": "python"
    }
  },
  "cells": [
    {
      "cell_type": "markdown",
      "metadata": {
        "id": "view-in-github",
        "colab_type": "text"
      },
      "source": [
        "<a href=\"https://colab.research.google.com/github/Priyagreat/Data-Science-Projects/blob/main/Create_Website_blocker_Python.ipynb\" target=\"_parent\"><img src=\"https://colab.research.google.com/assets/colab-badge.svg\" alt=\"Open In Colab\"/></a>"
      ]
    },
    {
      "cell_type": "code",
      "execution_count": null,
      "metadata": {
        "id": "GndPGqI7tfdk"
      },
      "outputs": [],
      "source": [
        "import datetime\n",
        "import time\n",
        "end_time = datetime.datetime.now(2024,02,24)\n",
        "site_block=[\"https://www.flipkart.com/\",\"https://www.amazon.in/\"]\n",
        "host_path=\"C:\\Windows\\System32\\drivers\\etc\"\n",
        "redirect_path=\"127.0.0.1\"\n",
        "while true:\n",
        "  if datetime.datetime.now() < end_time:\n",
        "    print(\"start blocking\")\n",
        "    with open(host_path, 'r+') as host_file:\n",
        "      content = host_file.read()\n",
        "      for site in site_block:\n",
        "        if site not in content:\n",
        "          host_file.write(\"\\n\" + redirect_path + \" \" + site + \"\\n\")\n",
        "        else:\n",
        "          pass\n",
        "  else:\n",
        "    with open(host_path, 'r+') as host_file:\n",
        "      content = host_file.readlines()\n",
        "      host_file.seek(0)\n",
        "      for line in content:\n",
        "        if not any(site in line for site in site_block):\n",
        "          host_file.write(line)\n",
        "      host_file.truncate()\n",
        "    time.sleep(5)\n",
        "print(datetime.datetime.now())"
      ]
    }
  ]
}