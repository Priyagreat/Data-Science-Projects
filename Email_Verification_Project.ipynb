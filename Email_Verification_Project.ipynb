{
  "nbformat": 4,
  "nbformat_minor": 0,
  "metadata": {
    "colab": {
      "provenance": [],
      "authorship_tag": "ABX9TyNDLVEEORqYTkStXsvZ7AEk",
      "include_colab_link": true
    },
    "kernelspec": {
      "name": "python3",
      "display_name": "Python 3"
    },
    "language_info": {
      "name": "python"
    }
  },
  "cells": [
    {
      "cell_type": "markdown",
      "metadata": {
        "id": "view-in-github",
        "colab_type": "text"
      },
      "source": [
        "<a href=\"https://colab.research.google.com/github/Priyagreat/Data-Science-Projects/blob/main/Email_Verification_Project.ipynb\" target=\"_parent\"><img src=\"https://colab.research.google.com/assets/colab-badge.svg\" alt=\"Open In Colab\"/></a>"
      ]
    },
    {
      "cell_type": "code",
      "execution_count": 14,
      "metadata": {
        "colab": {
          "base_uri": "https://localhost:8080/"
        },
        "id": "HhjRa0s5Dswh",
        "outputId": "b8c37796-611f-4d09-ae94-9ef1939cd912"
      },
      "outputs": [
        {
          "output_type": "stream",
          "name": "stdout",
          "text": [
            "enter your email:priyanka.bbc@gmail.com\n",
            "wrong email 2\n"
          ]
        }
      ],
      "source": [
        "email=input(\"enter your email:\")#g@g.in , @gmail.com , @yahoo.com\n",
        "k,j,d=0,0,0\n",
        "if len(email)>=6:\n",
        "  if email.isalpha():\n",
        "    if \"@\" in email and email.count(\"@\")==1:\n",
        "        if (email[-4]==\".\") ^ (email[-3]==\".\"):\n",
        "          for i in email:\n",
        "            if i==i.isspace():\n",
        "              k=1\n",
        "            elif i.isalpha():\n",
        "              if i==i.upper(): # w--W==W\n",
        "                j=1\n",
        "                if k==1 or j==1 or d==1:\n",
        "                  print(\"wrong email 5\")\n",
        "                else:\n",
        "                  print(\"right email\")\n",
        "              elif i.isdigit():\n",
        "                 continue\n",
        "              elif i==\"_\" or i==\".\" or i==\"@\":\n",
        "                 continue\n",
        "          else:\n",
        "            d==1\n",
        "        else:print(\"wrong email 4\")\n",
        "    else:print(\"wrong email 3\")\n",
        "  else:print(\"wrong email 2\")\n",
        "else:\n",
        "  print(\"wrong email 1\")"
      ]
    }
  ]
}