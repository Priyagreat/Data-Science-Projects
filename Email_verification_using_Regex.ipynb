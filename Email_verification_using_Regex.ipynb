{
  "nbformat": 4,
  "nbformat_minor": 0,
  "metadata": {
    "colab": {
      "provenance": [],
      "authorship_tag": "ABX9TyMvNyTaxa+s/+5Tcg0TrOy1",
      "include_colab_link": true
    },
    "kernelspec": {
      "name": "python3",
      "display_name": "Python 3"
    },
    "language_info": {
      "name": "python"
    }
  },
  "cells": [
    {
      "cell_type": "markdown",
      "metadata": {
        "id": "view-in-github",
        "colab_type": "text"
      },
      "source": [
        "<a href=\"https://colab.research.google.com/github/Priyagreat/Data-Science-Projects/blob/main/Email_verification_using_Regex.ipynb\" target=\"_parent\"><img src=\"https://colab.research.google.com/assets/colab-badge.svg\" alt=\"Open In Colab\"/></a>"
      ]
    },
    {
      "cell_type": "code",
      "execution_count": 2,
      "metadata": {
        "colab": {
          "base_uri": "https://localhost:8080/"
        },
        "id": "TgIUOFKApHlq",
        "outputId": "cb4f6ef3-af65-457d-9eaf-765ea4d18504"
      },
      "outputs": [
        {
          "output_type": "stream",
          "name": "stdout",
          "text": [
            "Enter your email address: 234@gmail.com\n",
            "Invalid Email\n"
          ]
        }
      ],
      "source": [
        "# email Validation using Regex\n",
        "#1 A-Z\n",
        "#2 a-z\n",
        "#3 0-9\n",
        "#4 @\n",
        "#5 .\n",
        "import re\n",
        "email_condition=\"^[a-z]+[\\._]?[a-z0-9]+[@]\\w+[.]\\w{2,3}$\"\n",
        "email=input(\"Enter your email address: \")\n",
        "if(re.search(email_condition,email)):\n",
        "  print(\"Valid Email\")\n",
        "else:\n",
        "  print(\"Invalid Email\")"
      ]
    }
  ]
}