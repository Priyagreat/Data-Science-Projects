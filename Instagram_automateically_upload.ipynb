{
  "nbformat": 4,
  "nbformat_minor": 0,
  "metadata": {
    "colab": {
      "provenance": [],
      "authorship_tag": "ABX9TyMKfk2uaH6JeynIWCu5Onoj",
      "include_colab_link": true
    },
    "kernelspec": {
      "name": "python3",
      "display_name": "Python 3"
    },
    "language_info": {
      "name": "python"
    }
  },
  "cells": [
    {
      "cell_type": "markdown",
      "metadata": {
        "id": "view-in-github",
        "colab_type": "text"
      },
      "source": [
        "<a href=\"https://colab.research.google.com/github/Priyagreat/Data-Science-Projects/blob/main/Instagram_automateically_upload.ipynb\" target=\"_parent\"><img src=\"https://colab.research.google.com/assets/colab-badge.svg\" alt=\"Open In Colab\"/></a>"
      ]
    },
    {
      "cell_type": "code",
      "execution_count": 1,
      "metadata": {
        "colab": {
          "base_uri": "https://localhost:8080/"
        },
        "id": "oMiZsLfDX3v9",
        "outputId": "9519ba77-5b96-4f66-b3a4-1a94d371884a"
      },
      "outputs": [
        {
          "output_type": "stream",
          "name": "stdout",
          "text": [
            "Collecting instabot\n",
            "  Downloading instabot-0.117.0.tar.gz (84 kB)\n",
            "\u001b[2K     \u001b[90m━━━━━━━━━━━━━━━━━━━━━━━━━━━━━━━━━━━━━━━━\u001b[0m \u001b[32m84.4/84.4 kB\u001b[0m \u001b[31m981.7 kB/s\u001b[0m eta \u001b[36m0:00:00\u001b[0m\n",
            "\u001b[?25h  Preparing metadata (setup.py) ... \u001b[?25l\u001b[?25hdone\n",
            "Requirement already satisfied: certifi>=2019.11.28 in /usr/local/lib/python3.10/dist-packages (from instabot) (2024.2.2)\n",
            "Requirement already satisfied: chardet>=3.0.4 in /usr/local/lib/python3.10/dist-packages (from instabot) (5.2.0)\n",
            "Requirement already satisfied: future>=0.18.2 in /usr/local/lib/python3.10/dist-packages (from instabot) (0.18.3)\n",
            "Collecting huepy>=1.2.1 (from instabot)\n",
            "  Downloading huepy-1.2.1.tar.gz (15 kB)\n",
            "  Preparing metadata (setup.py) ... \u001b[?25l\u001b[?25hdone\n",
            "Requirement already satisfied: idna>=2.8 in /usr/local/lib/python3.10/dist-packages (from instabot) (3.6)\n",
            "Requirement already satisfied: pysocks>=1.7.1 in /usr/local/lib/python3.10/dist-packages (from instabot) (1.7.1)\n",
            "Requirement already satisfied: pytz>=2019.3 in /usr/local/lib/python3.10/dist-packages (from instabot) (2023.4)\n",
            "Requirement already satisfied: requests>=2.22.0 in /usr/local/lib/python3.10/dist-packages (from instabot) (2.31.0)\n",
            "Collecting requests-toolbelt>=0.9.1 (from instabot)\n",
            "  Downloading requests_toolbelt-1.0.0-py2.py3-none-any.whl (54 kB)\n",
            "\u001b[2K     \u001b[90m━━━━━━━━━━━━━━━━━━━━━━━━━━━━━━━━━━━━━━━━\u001b[0m \u001b[32m54.5/54.5 kB\u001b[0m \u001b[31m4.9 MB/s\u001b[0m eta \u001b[36m0:00:00\u001b[0m\n",
            "\u001b[?25hCollecting responses>=0.10.9 (from instabot)\n",
            "  Downloading responses-0.25.0-py3-none-any.whl (55 kB)\n",
            "\u001b[2K     \u001b[90m━━━━━━━━━━━━━━━━━━━━━━━━━━━━━━━━━━━━━━━━\u001b[0m \u001b[32m55.2/55.2 kB\u001b[0m \u001b[31m4.8 MB/s\u001b[0m eta \u001b[36m0:00:00\u001b[0m\n",
            "\u001b[?25hCollecting schedule>=0.6.0 (from instabot)\n",
            "  Downloading schedule-1.2.1-py2.py3-none-any.whl (11 kB)\n",
            "Requirement already satisfied: six>=1.14.0 in /usr/local/lib/python3.10/dist-packages (from instabot) (1.16.0)\n",
            "Requirement already satisfied: tqdm>=4.41.1 in /usr/local/lib/python3.10/dist-packages (from instabot) (4.66.2)\n",
            "Requirement already satisfied: urllib3>=1.25.7 in /usr/local/lib/python3.10/dist-packages (from instabot) (2.0.7)\n",
            "Collecting mock>=3.0.5 (from instabot)\n",
            "  Downloading mock-5.1.0-py3-none-any.whl (30 kB)\n",
            "Requirement already satisfied: moviepy>=1.0.1 in /usr/local/lib/python3.10/dist-packages (from instabot) (1.0.3)\n",
            "Requirement already satisfied: Pillow>=6.2.2 in /usr/local/lib/python3.10/dist-packages (from instabot) (9.4.0)\n",
            "Requirement already satisfied: pytest>=4.6.9 in /usr/local/lib/python3.10/dist-packages (from instabot) (7.4.4)\n",
            "Requirement already satisfied: decorator<5.0,>=4.0.2 in /usr/local/lib/python3.10/dist-packages (from moviepy>=1.0.1->instabot) (4.4.2)\n",
            "Requirement already satisfied: proglog<=1.0.0 in /usr/local/lib/python3.10/dist-packages (from moviepy>=1.0.1->instabot) (0.1.10)\n",
            "Requirement already satisfied: numpy>=1.17.3 in /usr/local/lib/python3.10/dist-packages (from moviepy>=1.0.1->instabot) (1.25.2)\n",
            "Requirement already satisfied: imageio<3.0,>=2.5 in /usr/local/lib/python3.10/dist-packages (from moviepy>=1.0.1->instabot) (2.31.6)\n",
            "Requirement already satisfied: imageio-ffmpeg>=0.2.0 in /usr/local/lib/python3.10/dist-packages (from moviepy>=1.0.1->instabot) (0.4.9)\n",
            "Requirement already satisfied: iniconfig in /usr/local/lib/python3.10/dist-packages (from pytest>=4.6.9->instabot) (2.0.0)\n",
            "Requirement already satisfied: packaging in /usr/local/lib/python3.10/dist-packages (from pytest>=4.6.9->instabot) (23.2)\n",
            "Requirement already satisfied: pluggy<2.0,>=0.12 in /usr/local/lib/python3.10/dist-packages (from pytest>=4.6.9->instabot) (1.4.0)\n",
            "Requirement already satisfied: exceptiongroup>=1.0.0rc8 in /usr/local/lib/python3.10/dist-packages (from pytest>=4.6.9->instabot) (1.2.0)\n",
            "Requirement already satisfied: tomli>=1.0.0 in /usr/local/lib/python3.10/dist-packages (from pytest>=4.6.9->instabot) (2.0.1)\n",
            "Requirement already satisfied: charset-normalizer<4,>=2 in /usr/local/lib/python3.10/dist-packages (from requests>=2.22.0->instabot) (3.3.2)\n",
            "Requirement already satisfied: pyyaml in /usr/local/lib/python3.10/dist-packages (from responses>=0.10.9->instabot) (6.0.1)\n",
            "Requirement already satisfied: setuptools in /usr/local/lib/python3.10/dist-packages (from imageio-ffmpeg>=0.2.0->moviepy>=1.0.1->instabot) (67.7.2)\n",
            "Building wheels for collected packages: instabot, huepy\n",
            "  Building wheel for instabot (setup.py) ... \u001b[?25l\u001b[?25hdone\n",
            "  Created wheel for instabot: filename=instabot-0.117.0-py3-none-any.whl size=101260 sha256=1f672de651a929305a583b786bb5554b6d5d1b0b79097ca675ae01f5584ec35c\n",
            "  Stored in directory: /root/.cache/pip/wheels/67/bf/77/58ae7f57d53eb1e20faf980bbd060251dfd2816a1edff9150a\n",
            "  Building wheel for huepy (setup.py) ... \u001b[?25l\u001b[?25hdone\n",
            "  Created wheel for huepy: filename=huepy-1.2.1-py3-none-any.whl size=26986 sha256=01991c469baaa312b5e8d8b34b81cc6cf168de4aec39f89ee20d9a235a59ef8e\n",
            "  Stored in directory: /root/.cache/pip/wheels/6c/b3/80/bb3bc1a2d6d3ebbad79b4959f0da042ee6aa7f39b386a74465\n",
            "Successfully built instabot huepy\n",
            "Installing collected packages: huepy, schedule, mock, responses, requests-toolbelt, instabot\n",
            "Successfully installed huepy-1.2.1 instabot-0.117.0 mock-5.1.0 requests-toolbelt-1.0.0 responses-0.25.0 schedule-1.2.1\n"
          ]
        }
      ],
      "source": [
        "pip install instabot"
      ]
    },
    {
      "cell_type": "code",
      "source": [
        "from instabot import Bot\n",
        "bot = Bot()\n",
        "bot.login(username=\"priyanka_sssssssss\", password=\"#######\")\n",
        "#bot.follow_followers([\"wscubetechindia\"])\n",
        "bot.upload_photo(\"chrome.png\", caption=\"Chrome\")\n",
        "bot.unfollow(\"priyanka_sssssssss\")\n",
        "bot.send_message(\"priyanka_sssssssss\",\"wscubetechindia\" ,\"Hello I am using instabot\")\n",
        "followers = bot.get_user_followers(\"wscubetechindia\")\n",
        "for follower in followers:\n",
        "  print(follower.username)\n",
        "  print(bot.get_user_info(follower.username))\n",
        "following = bot.get_user_followers(follower.username)\n",
        "for follower in following:\n",
        "  print(bot.get user_info(following))\n",
        "  bot.send_message(follower.username,\"wscubetechindia\" ,\"Hello I am using instabot\")\n",
        "\n"
      ],
      "metadata": {
        "id": "_X5Uz116YJDX"
      },
      "execution_count": null,
      "outputs": []
    }
  ]
}