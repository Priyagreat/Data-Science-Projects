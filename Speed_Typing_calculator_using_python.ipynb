{
  "nbformat": 4,
  "nbformat_minor": 0,
  "metadata": {
    "colab": {
      "provenance": [],
      "authorship_tag": "ABX9TyOcq1dt8K3u5I4rKChNlFyT",
      "include_colab_link": true
    },
    "kernelspec": {
      "name": "python3",
      "display_name": "Python 3"
    },
    "language_info": {
      "name": "python"
    }
  },
  "cells": [
    {
      "cell_type": "markdown",
      "metadata": {
        "id": "view-in-github",
        "colab_type": "text"
      },
      "source": [
        "<a href=\"https://colab.research.google.com/github/Priyagreat/Data-Science-Projects/blob/main/Speed_Typing_calculator_using_python.ipynb\" target=\"_parent\"><img src=\"https://colab.research.google.com/assets/colab-badge.svg\" alt=\"Open In Colab\"/></a>"
      ]
    },
    {
      "cell_type": "code",
      "execution_count": 9,
      "metadata": {
        "colab": {
          "base_uri": "https://localhost:8080/"
        },
        "id": "MWvqPFyHTlTv",
        "outputId": "0281f643-9c74-4b80-8647-7d8eb112f4c1"
      },
      "outputs": [
        {
          "output_type": "stream",
          "name": "stdout",
          "text": [
            "typing speed calculator\n",
            "1708605390.9493718\n",
            "A paragraph of text\n",
            "\n",
            "enter your texthi\n",
            "your typing speed is 1 w/sec\n",
            "Error 19\n"
          ]
        }
      ],
      "source": [
        "from time import*\n",
        "import random as r\n",
        "print(\"typing speed calculator\")\n",
        "\n",
        "print(time())\n",
        "def mistake(partest, usertest):\n",
        "  error = 0\n",
        "  for i in range(len(partest)):\n",
        "    try:\n",
        "      if partest[i] != usertest[i]:\n",
        "        error += 1\n",
        "    except:\n",
        "      error += 1\n",
        "  return error\n",
        "def speed_time(time_s,time_e,userinput):\n",
        " time_delay=time_e-time_s\n",
        " time_R=round(time_delay,2)\n",
        " speed=len(userinput)/time_R\n",
        " return round(speed)\n",
        "test=[\"A paragraph of text\",\"what is your name\",\"how are you\"]\n",
        "test1=r.choice(test)\n",
        "\n",
        "print(test1)\n",
        "print()\n",
        "time1=time()\n",
        "testinput=input(\"enter your text\")\n",
        "time2=time()\n",
        "start=time()\n",
        "print(\"your typing speed is\",speed_time(time1,time2,testinput),\"w/sec\")\n",
        "print(\"Error\",mistake(test1,testinput))"
      ]
    }
  ]
}