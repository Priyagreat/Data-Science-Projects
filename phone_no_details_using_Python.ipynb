{
  "nbformat": 4,
  "nbformat_minor": 0,
  "metadata": {
    "colab": {
      "provenance": [],
      "authorship_tag": "ABX9TyPYwIUNCl1pDz2PGQN+MdoG",
      "include_colab_link": true
    },
    "kernelspec": {
      "name": "python3",
      "display_name": "Python 3"
    },
    "language_info": {
      "name": "python"
    }
  },
  "cells": [
    {
      "cell_type": "markdown",
      "metadata": {
        "id": "view-in-github",
        "colab_type": "text"
      },
      "source": [
        "<a href=\"https://colab.research.google.com/github/Priyagreat/Data-Science-Projects/blob/main/phone_no_details_using_Python.ipynb\" target=\"_parent\"><img src=\"https://colab.research.google.com/assets/colab-badge.svg\" alt=\"Open In Colab\"/></a>"
      ]
    },
    {
      "cell_type": "code",
      "execution_count": 2,
      "metadata": {
        "colab": {
          "base_uri": "https://localhost:8080/"
        },
        "id": "Ds1BSyRdPxjz",
        "outputId": "542f1b27-8c30-4b30-d503-7b06946b4b4c"
      },
      "outputs": [
        {
          "output_type": "stream",
          "name": "stdout",
          "text": [
            "Collecting phonenumbers\n",
            "  Downloading phonenumbers-8.13.30-py2.py3-none-any.whl (2.6 MB)\n",
            "\u001b[2K     \u001b[90m━━━━━━━━━━━━━━━━━━━━━━━━━━━━━━━━━━━━━━━━\u001b[0m \u001b[32m2.6/2.6 MB\u001b[0m \u001b[31m14.4 MB/s\u001b[0m eta \u001b[36m0:00:00\u001b[0m\n",
            "\u001b[?25hInstalling collected packages: phonenumbers\n",
            "Successfully installed phonenumbers-8.13.30\n"
          ]
        }
      ],
      "source": [
        "pip install phonenumbers"
      ]
    },
    {
      "cell_type": "code",
      "source": [
        "import phonenumbers\n",
        "from phonenumbers import timezone, geocoder,carrier\n",
        "\n",
        "phone_number = input(\"Enter your phone number: \")\n",
        "phone_number = phonenumbers.parse(phone_number)\n",
        "\n",
        "time_zone = timezone.time_zones_for_number(phone_number)\n",
        "carrier_name = carrier.name_for_number(phone_number, \"en\")\n",
        "geocoder_description = geocoder.description_for_number(phone_number, \"en\")\n",
        "\n",
        "print(\"Time Zone: \", time_zone)\n",
        "print(\"Carrier Name: \", carrier_name)\n",
        "print(\"Geocoder Description: \", geocoder_description)\n",
        "print(phone_number)\n"
      ],
      "metadata": {
        "colab": {
          "base_uri": "https://localhost:8080/"
        },
        "id": "c3sIVqm3R52r",
        "outputId": "c3e60870-e345-4629-8aae-928a55cdf1bd"
      },
      "execution_count": 5,
      "outputs": [
        {
          "output_type": "stream",
          "name": "stdout",
          "text": [
            "Enter your phone number: +918442979958\n",
            "Time Zone:  ('Asia/Calcutta',)\n",
            "Carrier Name:  Idea\n",
            "Geocoder Description:  India\n",
            "Country Code: 91 National Number: 8442979958\n"
          ]
        }
      ]
    }
  ]
}