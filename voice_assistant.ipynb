{
  "nbformat": 4,
  "nbformat_minor": 0,
  "metadata": {
    "colab": {
      "provenance": [],
      "authorship_tag": "ABX9TyOvRufdf9r8i8FT+97SUo9a",
      "include_colab_link": true
    },
    "kernelspec": {
      "name": "python3",
      "display_name": "Python 3"
    },
    "language_info": {
      "name": "python"
    }
  },
  "cells": [
    {
      "cell_type": "markdown",
      "metadata": {
        "id": "view-in-github",
        "colab_type": "text"
      },
      "source": [
        "<a href=\"https://colab.research.google.com/github/Priyagreat/Data-Science-Projects/blob/main/voice_assistant.ipynb\" target=\"_parent\"><img src=\"https://colab.research.google.com/assets/colab-badge.svg\" alt=\"Open In Colab\"/></a>"
      ]
    },
    {
      "cell_type": "code",
      "execution_count": 27,
      "metadata": {
        "id": "xWrOfVnR9XEa"
      },
      "outputs": [],
      "source": [
        "###Speech to text\n",
        "\n",
        "import pyttsx3\n",
        "import speech_recognition as sr\n",
        "import webbrowser\n",
        "import datetime\n",
        "import pyjokes\n",
        "def sptext():\n",
        "  r = sr.Recognizer()\n",
        "  with sr.Microphone() as source:\n",
        "    print(\"Lisening:\")\n",
        "    r.adjust_for_ambient_noise(source,duration=1)\n",
        "    audio = r.listen(source)\n",
        "    try:\n",
        "      print(\"Recognizing...\")\n",
        "      text = r.recognize_google(audio)\n",
        "      print(\"You said : {}\".format(text))\n",
        "    except:\n",
        "      sr.UnknownValueError\n",
        "      print(\"Sorry could not recognize your voice\")\n",
        "    return text\n",
        "    sptext()"
      ]
    },
    {
      "cell_type": "code",
      "source": [
        "from audioop import ratecv\n",
        "##text to speech\n",
        "\n",
        "import pyttsx3\n",
        "import speech_recognition as sr\n",
        "import webbrowser\n",
        "import datetime\n",
        "import pyjokes\n",
        "def sptext():\n",
        "  r = sr.Recognizer()\n",
        "  with sr.Microphone() as source:\n",
        "    print(\"Lisening:\")\n",
        "    r.adjust_for_ambient_noise(source,duration=1)\n",
        "    audio = r.listen(source)\n",
        "    try:\n",
        "      print(\"Recognizing...\")\n",
        "      text = r.recognize_google(audio)\n",
        "      print(\"You said : {}\".format(text))\n",
        "    except:\n",
        "      sr.UnknownValueError\n",
        "      print(\"Sorry could not recognize your voice\")\n",
        "    return text\n",
        "  def speechtxt():\n",
        "    engine = pyttsx3.init()\n",
        "    voice = engine.getProperty('voices')\n",
        "    engine.setProperty('voice',voice[1].id)\n",
        "    rate = engine.getProperty('rate')\n",
        "    engine.setProperty('rate', 150)\n",
        "    engine.say(sptext())\n",
        "    engine.runAndWait()\n",
        "  speechtxt(\"hello Welcome to my voice assistant\")\n",
        "\n",
        "if name_main == '__main__':\n",
        "  if sptext.lower()==\"hello\":\n",
        " data1= sptext().lower()\n",
        " if \"your name\" in data1:\n",
        "  name = sptext().lower()\n",
        "  print(\"My name is\", name)\n",
        "  else:\n",
        "    print(\"Sorry could not recognize your voice\")\n",
        ""
      ],
      "metadata": {
        "id": "PVE2D7gKe6Z5"
      },
      "execution_count": 29,
      "outputs": []
    },
    {
      "cell_type": "code",
      "source": [
        "pip install pyjokes"
      ],
      "metadata": {
        "colab": {
          "base_uri": "https://localhost:8080/"
        },
        "id": "A2rkaMd5eefP",
        "outputId": "54e2d18a-eb46-482c-8d1a-6fd71a2f9d0a"
      },
      "execution_count": 25,
      "outputs": [
        {
          "output_type": "stream",
          "name": "stdout",
          "text": [
            "Collecting pyjokes\n",
            "  Downloading pyjokes-0.6.0-py2.py3-none-any.whl (26 kB)\n",
            "Installing collected packages: pyjokes\n",
            "Successfully installed pyjokes-0.6.0\n"
          ]
        }
      ]
    },
    {
      "cell_type": "code",
      "source": [
        "pip install SpeechRecognition"
      ],
      "metadata": {
        "colab": {
          "base_uri": "https://localhost:8080/"
        },
        "id": "IW4JI-Iwc_1X",
        "outputId": "6ea54e53-a4a2-4fdd-fd8b-257c1deb3792"
      },
      "execution_count": 23,
      "outputs": [
        {
          "output_type": "stream",
          "name": "stdout",
          "text": [
            "Collecting SpeechRecognition\n",
            "  Downloading SpeechRecognition-3.10.1-py2.py3-none-any.whl (32.8 MB)\n",
            "\u001b[2K     \u001b[90m━━━━━━━━━━━━━━━━━━━━━━━━━━━━━━━━━━━━━━━━\u001b[0m \u001b[32m32.8/32.8 MB\u001b[0m \u001b[31m45.7 MB/s\u001b[0m eta \u001b[36m0:00:00\u001b[0m\n",
            "\u001b[?25hRequirement already satisfied: requests>=2.26.0 in /usr/local/lib/python3.10/dist-packages (from SpeechRecognition) (2.31.0)\n",
            "Requirement already satisfied: typing-extensions in /usr/local/lib/python3.10/dist-packages (from SpeechRecognition) (4.9.0)\n",
            "Requirement already satisfied: charset-normalizer<4,>=2 in /usr/local/lib/python3.10/dist-packages (from requests>=2.26.0->SpeechRecognition) (3.3.2)\n",
            "Requirement already satisfied: idna<4,>=2.5 in /usr/local/lib/python3.10/dist-packages (from requests>=2.26.0->SpeechRecognition) (3.6)\n",
            "Requirement already satisfied: urllib3<3,>=1.21.1 in /usr/local/lib/python3.10/dist-packages (from requests>=2.26.0->SpeechRecognition) (2.0.7)\n",
            "Requirement already satisfied: certifi>=2017.4.17 in /usr/local/lib/python3.10/dist-packages (from requests>=2.26.0->SpeechRecognition) (2024.2.2)\n",
            "Installing collected packages: SpeechRecognition\n",
            "Successfully installed SpeechRecognition-3.10.1\n"
          ]
        }
      ]
    },
    {
      "cell_type": "code",
      "source": [
        "pip install pyttsx3"
      ],
      "metadata": {
        "colab": {
          "base_uri": "https://localhost:8080/"
        },
        "id": "EZIyv7OhbvxI",
        "outputId": "d6d946ff-a73d-4979-ccf7-e369184b32e9"
      },
      "execution_count": 12,
      "outputs": [
        {
          "output_type": "stream",
          "name": "stdout",
          "text": [
            "Collecting pyttsx3\n",
            "  Downloading pyttsx3-2.90-py3-none-any.whl (39 kB)\n",
            "Installing collected packages: pyttsx3\n",
            "Successfully installed pyttsx3-2.90\n"
          ]
        }
      ]
    }
  ]
}